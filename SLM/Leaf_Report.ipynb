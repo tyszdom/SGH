{
 "cells": [
  {
   "cell_type": "markdown",
   "metadata": {},
   "source": [
    "# Leaf Dataset Classification\n",
    "\n",
    "Dominik Tyszkowski 68033<br/>\n",
    "Statistical Learning Methods<br/>\n",
    "Group 102<br/>\n",
    "\n",
    "Dataset link is located [here](https://archive.ics.uci.edu/ml/datasets/Leaf#).\n"
   ]
  },
  {
   "cell_type": "markdown",
   "metadata": {},
   "source": [
    "## Table of contents"
   ]
  },
  {
   "cell_type": "markdown",
   "metadata": {},
   "source": [
    "<span><a href=\"#Introduction-to-Dataset\" data-toc-modified-id=\"Introduction to Dataset-1\"><span class=\"toc-item-num\">1.&nbsp;&nbsp;</span>Introduction to Dataset<br/>\n",
    "<span><a href=\"#Project-description\" data-toc-modified-id=\"Project description-2\"><span class=\"toc-item-num\">2.&nbsp;&nbsp;</span>Project description<br/>\n",
    "<span><a href=\"#Cleaning-and-preprocessing-data\" data-toc-modified-id=\"Cleaning and preprocessing data-3\"><span class=\"toc-item-num\">3.&nbsp;&nbsp;</span>Cleaning and preprocessing data<br/>\n",
    "<span><a href=\"#Exploratory-Data-Analysis\" data-toc-modified-id=\"Exploratory Data Analysis-4\"><span class=\"toc-item-num\">4.&nbsp;&nbsp;</span>Exploratory Data Analysis<br/>\n",
    "<span><a href=\"#Classification-models\" data-toc-modified-id=\"Classification models-5\"><span class=\"toc-item-num\">5.&nbsp;&nbsp;</span>Classification models<br/>\n",
    "<span><a href=\"#Summary\" data-toc-modified-id=\"Summary-6\"><span class=\"toc-item-num\">6.&nbsp;&nbsp;</span>Summary<br/>   "
   ]
  },
  {
   "cell_type": "markdown",
   "metadata": {},
   "source": [
    "## Libraries used"
   ]
  },
  {
   "cell_type": "code",
   "execution_count": 1,
   "metadata": {},
   "outputs": [],
   "source": [
    "import pandas as pd\n",
    "import numpy as np\n",
    "import tabulate\n",
    "import sklearn\n",
    "import matplotlib.pyplot as plt\n",
    "from IPython.display import HTML\n",
    "import seaborn as sns\n",
    "%matplotlib inline\n",
    "from sklearn import metrics\n",
    "from sklearn.model_selection import train_test_split\n",
    "from sklearn.preprocessing import StandardScaler\n",
    "from sklearn.neighbors import KNeighborsClassifier\n",
    "from sklearn.discriminant_analysis import LinearDiscriminantAnalysis\n",
    "from sklearn.svm import SVC\n",
    "from sklearn.naive_bayes import GaussianNB, BernoulliNB\n",
    "from sklearn.tree import DecisionTreeClassifier\n",
    "from sklearn.ensemble import RandomForestClassifier\n",
    "from sklearn.ensemble import GradientBoostingClassifier\n",
    "from sklearn.metrics import classification_report, confusion_matrix"
   ]
  },
  {
   "cell_type": "markdown",
   "metadata": {},
   "source": [
    "## Introduction to Dataset"
   ]
  },
  {
   "cell_type": "markdown",
   "metadata": {},
   "source": [
    "Leaf dataset consists of a collection of shape and texture features extracted from digital images of leaf specimens originating from a total of 36 different plant species. Species numbered from 1 to 15 and from 22 to 36 exhibit simple leaves and species numbered from 16 to 21 have complex leaves."
   ]
  },
  {
   "cell_type": "code",
   "execution_count": 2,
   "metadata": {},
   "outputs": [
    {
     "name": "stdout",
     "output_type": "stream",
     "text": [
      "                Scientific_name Leaves_type\n",
      "Class                                      \n",
      "1                 Quercus suber      Single\n",
      "2              Salix atrocinera      Single\n",
      "3                 Populus nigra      Single\n",
      "4                     Alnus sp.      Single\n",
      "5                 Quercus robur      Single\n",
      "6            Crataegus monogyna      Single\n",
      "7               Ilex aquifolium      Single\n",
      "8               Nerium oleander      Single\n",
      "9              Betula pubescens      Single\n",
      "10              Tilia tomentosa      Single\n",
      "11                Acer palmatum      Single\n",
      "12                   Celtis sp.      Single\n",
      "13             Corylus avellana      Single\n",
      "14              Castanea sativa      Single\n",
      "15                 Populus alba      Single\n",
      "16                 Acer negundo     Complex\n",
      "17                Taxus bacatta     Complex\n",
      "18                  Papaver sp.     Complex\n",
      "19           Polypolium vulgare     Complex\n",
      "20                    Pinus sp.     Complex\n",
      "21                 Fraxinus sp.     Complex\n",
      "22             Primula vulgaris      Single\n",
      "23                  Erodium sp.      Single\n",
      "24            Bougainvillea sp.      Single\n",
      "25             Arisarum vulgare      Single\n",
      "26           Euonymus japonicus      Single\n",
      "27     Ilex perado ssp. azorica      Single\n",
      "28         Magnolia soulangeana      Single\n",
      "29           Buxus sempervirens      Single\n",
      "30                Urtica dioica      Single\n",
      "31               Podocarpus sp.      Single\n",
      "32              Acca sellowiana      Single\n",
      "33                Hydrangea sp.      Single\n",
      "34          Pseudosasa japonica      Single\n",
      "35          Magnolia grandiﬂora      Single\n",
      "36                 Geranium sp.      Single\n"
     ]
    }
   ],
   "source": [
    "plant = pd.DataFrame({\n",
    "    'Class': range(1,37),\n",
    "    'Scientific_name': ['Quercus suber', 'Salix atrocinera', 'Populus nigra', 'Alnus sp.',\n",
    "            'Quercus robur', 'Crataegus monogyna', 'Ilex aquifolium', 'Nerium oleander',\n",
    "            'Betula pubescens', 'Tilia tomentosa', 'Acer palmatum', 'Celtis sp.',\n",
    "            'Corylus avellana', 'Castanea sativa', 'Populus alba', 'Acer negundo',\n",
    "            'Taxus bacatta', 'Papaver sp.', 'Polypolium vulgare', 'Pinus sp.',\n",
    "            'Fraxinus sp.', 'Primula vulgaris', 'Erodium sp.', 'Bougainvillea sp.',\n",
    "            'Arisarum vulgare', 'Euonymus japonicus', 'Ilex perado ssp. azorica',  'Magnolia soulangeana',\n",
    "            'Buxus sempervirens', 'Urtica dioica', 'Podocarpus sp.', 'Acca sellowiana',\n",
    "            'Hydrangea sp.', 'Pseudosasa japonica', 'Magnolia grandiﬂora', 'Geranium sp.' ],\n",
    "    'Leaves_type': 'Single' })\n",
    "\n",
    "plant.loc[plant['Class'] > 15, 'Leaves_type'] = 'Complex'\n",
    "plant.loc[plant['Class'] > 21, 'Leaves_type'] = 'Single'\n",
    "\n",
    "plant = plant.set_index('Class')\n",
    "\n",
    "print(plant)"
   ]
  },
  {
   "cell_type": "markdown",
   "metadata": {},
   "source": [
    "The dataset has 340 observations. Each one consists 16 variables which you can divide into 3 groups:<br/>\n",
    "\n",
    "        - Class and number of specimens available of each plant (Columns 1-2).\n",
    "        - Attributes describing shape (columns 3-10).\n",
    "        - Attributes describing texture (columns 11-16)."
   ]
  },
  {
   "cell_type": "code",
   "execution_count": 3,
   "metadata": {},
   "outputs": [
    {
     "name": "stdout",
     "output_type": "stream",
     "text": [
      "Number of variables in dataset: 16\n",
      "Number of observations in dataset: 340\n",
      "\n",
      "Name of variables used in dataset: \n",
      " \n",
      " ['Class', 'Spec_Num', 'Ecc', 'Asp_R', 'Elong', 'Solid', 'Stoch_Conv', 'Isom_F'] \n",
      " ['Max_Ind', 'Lob', 'Avg_Int', 'Avg_Con', 'Smooth', 'Third_Mom', 'Unif', 'Entr'] \n",
      "\n"
     ]
    },
    {
     "data": {
      "text/html": [
       "<table border=\"1\" class=\"dataframe\">\n",
       "  <thead>\n",
       "    <tr style=\"text-align: right;\">\n",
       "      <th>Class</th>\n",
       "      <th>Spec_Num</th>\n",
       "      <th>Ecc</th>\n",
       "      <th>Asp_R</th>\n",
       "      <th>Elong</th>\n",
       "      <th>Solid</th>\n",
       "      <th>Stoch_Conv</th>\n",
       "      <th>Isom_F</th>\n",
       "      <th>Max_Ind</th>\n",
       "      <th>Lob</th>\n",
       "      <th>Avg_Int</th>\n",
       "      <th>Avg_Con</th>\n",
       "      <th>Smooth</th>\n",
       "      <th>Third_Mom</th>\n",
       "      <th>Unif</th>\n",
       "      <th>Entr</th>\n",
       "    </tr>\n",
       "  </thead>\n",
       "  <tbody>\n",
       "    <tr>\n",
       "      <td>1</td>\n",
       "      <td>1</td>\n",
       "      <td>0.72694</td>\n",
       "      <td>1.4742</td>\n",
       "      <td>0.32396</td>\n",
       "      <td>0.98535</td>\n",
       "      <td>1.00000</td>\n",
       "      <td>0.83592</td>\n",
       "      <td>0.004657</td>\n",
       "      <td>0.003947</td>\n",
       "      <td>0.047790</td>\n",
       "      <td>0.127950</td>\n",
       "      <td>0.016108</td>\n",
       "      <td>0.005232</td>\n",
       "      <td>0.000275</td>\n",
       "      <td>1.17560</td>\n",
       "    </tr>\n",
       "    <tr>\n",
       "      <td>1</td>\n",
       "      <td>2</td>\n",
       "      <td>0.74173</td>\n",
       "      <td>1.5257</td>\n",
       "      <td>0.36116</td>\n",
       "      <td>0.98152</td>\n",
       "      <td>0.99825</td>\n",
       "      <td>0.79867</td>\n",
       "      <td>0.005242</td>\n",
       "      <td>0.005002</td>\n",
       "      <td>0.024160</td>\n",
       "      <td>0.090476</td>\n",
       "      <td>0.008119</td>\n",
       "      <td>0.002708</td>\n",
       "      <td>0.000075</td>\n",
       "      <td>0.69659</td>\n",
       "    </tr>\n",
       "    <tr>\n",
       "      <td>1</td>\n",
       "      <td>3</td>\n",
       "      <td>0.76722</td>\n",
       "      <td>1.5725</td>\n",
       "      <td>0.38998</td>\n",
       "      <td>0.97755</td>\n",
       "      <td>1.00000</td>\n",
       "      <td>0.80812</td>\n",
       "      <td>0.007457</td>\n",
       "      <td>0.010121</td>\n",
       "      <td>0.011897</td>\n",
       "      <td>0.057445</td>\n",
       "      <td>0.003289</td>\n",
       "      <td>0.000921</td>\n",
       "      <td>0.000038</td>\n",
       "      <td>0.44348</td>\n",
       "    </tr>\n",
       "    <tr>\n",
       "      <td>1</td>\n",
       "      <td>4</td>\n",
       "      <td>0.73797</td>\n",
       "      <td>1.4597</td>\n",
       "      <td>0.35376</td>\n",
       "      <td>0.97566</td>\n",
       "      <td>1.00000</td>\n",
       "      <td>0.81697</td>\n",
       "      <td>0.006877</td>\n",
       "      <td>0.008607</td>\n",
       "      <td>0.015950</td>\n",
       "      <td>0.065491</td>\n",
       "      <td>0.004271</td>\n",
       "      <td>0.001154</td>\n",
       "      <td>0.000066</td>\n",
       "      <td>0.58785</td>\n",
       "    </tr>\n",
       "    <tr>\n",
       "      <td>1</td>\n",
       "      <td>5</td>\n",
       "      <td>0.82301</td>\n",
       "      <td>1.7707</td>\n",
       "      <td>0.44462</td>\n",
       "      <td>0.97698</td>\n",
       "      <td>1.00000</td>\n",
       "      <td>0.75493</td>\n",
       "      <td>0.007428</td>\n",
       "      <td>0.010042</td>\n",
       "      <td>0.007938</td>\n",
       "      <td>0.045339</td>\n",
       "      <td>0.002051</td>\n",
       "      <td>0.000560</td>\n",
       "      <td>0.000024</td>\n",
       "      <td>0.34214</td>\n",
       "    </tr>\n",
       "  </tbody>\n",
       "</table>"
      ],
      "text/plain": [
       "<IPython.core.display.HTML object>"
      ]
     },
     "execution_count": 3,
     "metadata": {},
     "output_type": "execute_result"
    }
   ],
   "source": [
    "leaf = pd.read_csv('leaf.csv', names = ['Class','Spec_Num','Ecc','Asp_R','Elong','Solid','Stoch_Conv',\n",
    "'Isom_F','Max_Ind','Lob','Avg_Int','Avg_Con','Smooth',\n",
    "'Third_Mom','Unif','Entr'])\n",
    "\n",
    "print('Number of variables in dataset:', np.shape(leaf)[1])\n",
    "print('Number of observations in dataset:', np.shape(leaf)[0]) \n",
    "\n",
    "print('\\nName of variables used in dataset:','\\n','\\n',list(leaf.columns[:8]),'\\n',list(leaf.columns[8:]),'\\n')\n",
    "\n",
    "HTML(leaf.head().to_html(index=False))"
   ]
  },
  {
   "cell_type": "markdown",
   "metadata": {},
   "source": [
    "#### Class and number of specimens available of each plant"
   ]
  },
  {
   "cell_type": "code",
   "execution_count": 4,
   "metadata": {},
   "outputs": [
    {
     "name": "stdout",
     "output_type": "stream",
     "text": [
      "Class 1 with Single leaves has 12 specimens.\n",
      "Class 2 with Single leaves has 10 specimens.\n",
      "Class 3 with Single leaves has 10 specimens.\n",
      "Class 4 with Single leaves has 8 specimens.\n",
      "Class 5 with Single leaves has 12 specimens.\n",
      "Class 6 with Single leaves has 8 specimens.\n",
      "Class 7 with Single leaves has 10 specimens.\n",
      "Class 8 with Single leaves has 11 specimens.\n",
      "Class 9 with Single leaves has 14 specimens.\n",
      "Class 10 with Single leaves has 13 specimens.\n",
      "Class 11 with Single leaves has 16 specimens.\n",
      "Class 12 with Single leaves has 12 specimens.\n",
      "Class 13 with Single leaves has 13 specimens.\n",
      "Class 14 with Single leaves has 12 specimens.\n",
      "Class 15 with Single leaves has 10 specimens.\n",
      "Class 16 with Complex leaves has 0 specimens.\n",
      "Class 17 with Complex leaves has 0 specimens.\n",
      "Class 18 with Complex leaves has 0 specimens.\n",
      "Class 19 with Complex leaves has 0 specimens.\n",
      "Class 20 with Complex leaves has 0 specimens.\n",
      "Class 21 with Complex leaves has 0 specimens.\n",
      "Class 22 with Single leaves has 12 specimens.\n",
      "Class 23 with Single leaves has 11 specimens.\n",
      "Class 24 with Single leaves has 13 specimens.\n",
      "Class 25 with Single leaves has 9 specimens.\n",
      "Class 26 with Single leaves has 12 specimens.\n",
      "Class 27 with Single leaves has 11 specimens.\n",
      "Class 28 with Single leaves has 12 specimens.\n",
      "Class 29 with Single leaves has 12 specimens.\n",
      "Class 30 with Single leaves has 12 specimens.\n",
      "Class 31 with Single leaves has 11 specimens.\n",
      "Class 32 with Single leaves has 11 specimens.\n",
      "Class 33 with Single leaves has 11 specimens.\n",
      "Class 34 with Single leaves has 11 specimens.\n",
      "Class 35 with Single leaves has 11 specimens.\n",
      "Class 36 with Single leaves has 10 specimens.\n"
     ]
    },
    {
     "data": {
      "image/png": "[encoded data removed]",
      "text/plain": [
       "<Figure size 720x288 with 1 Axes>"
      ]
     },
     "metadata": {
      "needs_background": "light"
     },
     "output_type": "display_data"
    }
   ],
   "source": [
    "for i in range(1,37):\n",
    "        x = leaf[leaf['Class'] == i].count()['Class']\n",
    "        l = plant['Leaves_type'][i]\n",
    "        print('Class', i, 'with', l, 'leaves has', x, 'specimens.')\n",
    "        \n",
    "plt.rcParams['figure.figsize'] = [10,4]\n",
    "sns.countplot(leaf['Class'],label=\"Count\")\n",
    "plt.show()"
   ]
  },
  {
   "cell_type": "markdown",
   "metadata": {},
   "source": [
    "As we can see, we will analyze classes with single leaves only. Our dataset does not contain any complex leaves type class. Moreover, the data we analize is balanced."
   ]
  },
  {
   "cell_type": "markdown",
   "metadata": {},
   "source": [
    "#### Attributes describing shape"
   ]
  },
  {
   "cell_type": "code",
   "execution_count": 5,
   "metadata": {},
   "outputs": [
    {
     "name": "stdout",
     "output_type": "stream",
     "text": [
      "\n",
      "Shape features in dataset:\n"
     ]
    },
    {
     "data": {
      "text/html": [
       "<table>\n",
       "<thead>\n",
       "<tr><th>Variable  </th><th>Feature                  </th></tr>\n",
       "</thead>\n",
       "<tbody>\n",
       "<tr><td>Ecc       </td><td>Eccentricity             </td></tr>\n",
       "<tr><td>Asp_R     </td><td>Aspect Ratio             </td></tr>\n",
       "<tr><td>Elong     </td><td>Elongation               </td></tr>\n",
       "<tr><td>Solid     </td><td>Solidity                 </td></tr>\n",
       "<tr><td>Stoch_Conv</td><td>Stochastic Convexity     </td></tr>\n",
       "<tr><td>Isom_F    </td><td>Isoperimetric Factor     </td></tr>\n",
       "<tr><td>Max_Ind   </td><td>Maximal Indentation Depth</td></tr>\n",
       "<tr><td>Lob       </td><td>Lobedness                </td></tr>\n",
       "</tbody>\n",
       "</table>"
      ],
      "text/plain": [
       "<IPython.core.display.HTML object>"
      ]
     },
     "metadata": {},
     "output_type": "display_data"
    }
   ],
   "source": [
    "shape = pd.DataFrame({\n",
    "    'Variable': list(leaf.columns[2:10]),\n",
    "    'Feature': ['Eccentricity', 'Aspect Ratio', 'Elongation', 'Solidity',\n",
    "            'Stochastic Convexity', 'Isoperimetric Factor', 'Maximal Indentation Depth', 'Lobedness'] })\n",
    "\n",
    "shape = shape.set_index('Variable')\n",
    "\n",
    "print('\\nShape features in dataset:')\n",
    "\n",
    "display(HTML(tabulate.tabulate(shape, tablefmt='html', headers = ['Variable', 'Feature'])))"
   ]
  },
  {
   "cell_type": "markdown",
   "metadata": {},
   "source": [
    "#### Attributes describing texture"
   ]
  },
  {
   "cell_type": "code",
   "execution_count": 6,
   "metadata": {},
   "outputs": [
    {
     "name": "stdout",
     "output_type": "stream",
     "text": [
      "\n",
      "Texture features in dataset:\n"
     ]
    },
    {
     "data": {
      "text/html": [
       "<table>\n",
       "<thead>\n",
       "<tr><th>Variable  </th><th>Feature          </th></tr>\n",
       "</thead>\n",
       "<tbody>\n",
       "<tr><td>Avg_Int   </td><td>Average Intensity</td></tr>\n",
       "<tr><td>Avg_Con   </td><td>Average Contrast </td></tr>\n",
       "<tr><td>Smooth    </td><td>Smoothness       </td></tr>\n",
       "<tr><td>Third_Mom </td><td>Third moment     </td></tr>\n",
       "<tr><td>Unif      </td><td>Uniformity       </td></tr>\n",
       "<tr><td>Entr      </td><td>Entropy          </td></tr>\n",
       "</tbody>\n",
       "</table>"
      ],
      "text/plain": [
       "<IPython.core.display.HTML object>"
      ]
     },
     "metadata": {},
     "output_type": "display_data"
    }
   ],
   "source": [
    "texture = pd.DataFrame({\n",
    "    'Variable': list(leaf.columns[10:]),\n",
    "    'Feature': ['Average Intensity', 'Average Contrast', 'Smoothness', 'Third moment', 'Uniformity', 'Entropy'] })\n",
    "\n",
    "texture = texture.set_index('Variable')\n",
    "\n",
    "print('\\nTexture features in dataset:')\n",
    "\n",
    "display(HTML(tabulate.tabulate(texture, tablefmt='html', headers = ['Variable', 'Feature'])))"
   ]
  },
  {
   "cell_type": "markdown",
   "metadata": {},
   "source": [
    "## Project description"
   ]
  },
  {
   "cell_type": "markdown",
   "metadata": {},
   "source": [
    "The goal of project is to prepare classification analysis of above-mentioned dataset. At the beginning I would like to explain what classification is.\n",
    "\n",
    "In machine learning and statistics, classification is the problem of identifying to which of a set of categories (sub-populations) a new observation belongs, on the basis of a training set of data containing observations (or instances) whose category membership is known. Classification is a type of supervised learning which means the data fed to the network is already labeled, with the important features/attributes already separated into distinct categories beforehand.\n",
    "\n",
    "Classification can be broken down into two areas:\n",
    "\n",
    "        - Binary classification, where we wish to group an outcome into one of two groups.\n",
    "        - Multi-class classification, where we wish to group an outcome into one of multiple (more than two) groups.  \n",
    "\n",
    "The following methods are used in order to analyze dataset:<br/></br>\n",
    "\n",
    "        - K-Nearest Neighbors (KNN)\n",
    "        - Linear Discriminant Analysis (LDA)\n",
    "        - Support Vector Machine (SVM)\n",
    "        - Naive Bayes (NB); in our analysis we prepare Gaussian NB and Bernoulli NB models\n",
    "        - Decision Tree Classification (DTC)\n",
    "        - Random Forests (RF)\n",
    "        - Gradient Boosting Machines (GBM)."
   ]
  },
  {
   "cell_type": "markdown",
   "metadata": {},
   "source": [
    "## Cleaning and preprocessing data"
   ]
  },
  {
   "cell_type": "markdown",
   "metadata": {},
   "source": [
    "First of all we check if dataset has NA values."
   ]
  },
  {
   "cell_type": "code",
   "execution_count": 7,
   "metadata": {},
   "outputs": [
    {
     "name": "stdout",
     "output_type": "stream",
     "text": [
      "Is Class missing? -> [False]\n",
      "Is Spec_Num missing? -> [False]\n",
      "Is Ecc missing? -> [False]\n",
      "Is Asp_R missing? -> [False]\n",
      "Is Elong missing? -> [False]\n",
      "Is Solid missing? -> [False]\n",
      "Is Stoch_Conv missing? -> [False]\n",
      "Is Isom_F missing? -> [False]\n",
      "Is Max_Ind missing? -> [False]\n",
      "Is Lob missing? -> [False]\n",
      "Is Avg_Int missing? -> [False]\n",
      "Is Avg_Con missing? -> [False]\n",
      "Is Smooth missing? -> [False]\n",
      "Is Third_Mom missing? -> [False]\n",
      "Is Unif missing? -> [False]\n",
      "Is Entr missing? -> [False]\n"
     ]
    }
   ],
   "source": [
    "for i in range(0,16):\n",
    "        col = leaf.columns[i]\n",
    "        coluni = leaf[leaf.columns[i]].isna().unique()\n",
    "        print('Is', col, 'missing? ->',coluni)"
   ]
  },
  {
   "cell_type": "markdown",
   "metadata": {},
   "source": [
    "I checked values in each column and we know there is no missing values in dataset. Now I can split dataset into train and test subsets, assuming 25% of all observations are located in test subset. Then I scale features using StandardScaler function."
   ]
  },
  {
   "cell_type": "markdown",
   "metadata": {},
   "source": [
    "#### Split into Train and Test subset"
   ]
  },
  {
   "cell_type": "code",
   "execution_count": 8,
   "metadata": {},
   "outputs": [
    {
     "name": "stdout",
     "output_type": "stream",
     "text": [
      "Parameters in Train Set: 15 \n",
      "Observations in Train Set: 255 \n",
      " \n",
      "Parameters in Test Set: 15 \n",
      "Observations in Test Set: 85 \n",
      " \n",
      "Total number of observations: 340\n"
     ]
    }
   ],
   "source": [
    "leaf_y = leaf['Class']\n",
    "leaf_x = leaf.drop('Class',axis=1)\n",
    "\n",
    "x_train, x_test, y_train, y_test = sklearn.model_selection.train_test_split(leaf_x,leaf_y,test_size=0.25,random_state = 1)\n",
    "\n",
    "print('Parameters in Train Set:', x_train.shape[1], '\\nObservations in Train Set:', x_train.shape[0], '\\n',\n",
    "      '\\nParameters in Test Set:', x_test.shape[1], '\\nObservations in Test Set:', x_test.shape[0], '\\n', \n",
    "      '\\nTotal number of observations:', x_train.shape[0] + x_test.shape[0] )"
   ]
  },
  {
   "cell_type": "markdown",
   "metadata": {},
   "source": [
    "#### Feature scaling"
   ]
  },
  {
   "cell_type": "code",
   "execution_count": 9,
   "metadata": {},
   "outputs": [],
   "source": [
    "sc = StandardScaler()\n",
    "x_train = sc.fit_transform(x_train)\n",
    "x_test = sc.transform(x_test)"
   ]
  },
  {
   "cell_type": "markdown",
   "metadata": {},
   "source": [
    "## Exploratory Data Analysis"
   ]
  },
  {
   "cell_type": "markdown",
   "metadata": {},
   "source": [
    "#### Correlation matrix"
   ]
  },
  {
   "cell_type": "code",
   "execution_count": 10,
   "metadata": {},
   "outputs": [
    {
     "data": {
      "image/png": "[encoded data removed]",
      "text/plain": [
       "<Figure size 576x576 with 2 Axes>"
      ]
     },
     "metadata": {
      "needs_background": "light"
     },
     "output_type": "display_data"
    }
   ],
   "source": [
    "corr = leaf_x.corr()\n",
    "corr\n",
    "plt.rcParams['figure.figsize'] = [8,8]\n",
    "ax = sns.heatmap(corr, square = True, cmap=sns.diverging_palette(20, 220, n=200))\n",
    "ax.set_xticklabels(\n",
    "    ax.get_xticklabels(),\n",
    "    rotation=45,\n",
    "    horizontalalignment='right');"
   ]
  },
  {
   "cell_type": "markdown",
   "metadata": {},
   "source": [
    "With reference to the correlation plot above, attributes describing texture are strong and positive correlated with themselves. However, texture attributes are weakly correlated with shape attributes but its correlation coefficients are both negative and positive. Correlation between attributes describing shape are more diversified - there are either strong positive/negative or weak positive/negative coefficients. The interesting fact is number of specimens available of each plant is correlated with none feature."
   ]
  },
  {
   "cell_type": "markdown",
   "metadata": {},
   "source": [
    "#### Boxplots, histograms and density plots describing attributes"
   ]
  },
  {
   "cell_type": "code",
   "execution_count": 11,
   "metadata": {},
   "outputs": [
    {
     "data": {
      "image/png": "[encoded data removed]",
      "text/plain": [
       "<Figure size 1080x360 with 15 Axes>"
      ]
     },
     "metadata": {
      "needs_background": "light"
     },
     "output_type": "display_data"
    }
   ],
   "source": [
    "fig, axes = plt.subplots(3,5,figsize=[15,5])\n",
    "num_cols=leaf_x.select_dtypes(include=np.number).columns\n",
    "for i, col in enumerate(num_cols):\n",
    "    sns.boxplot(x=col,color=np.random.rand(3,), data=leaf_x, ax=axes[i//5,i%5],fliersize=1,width=0.6)\n",
    "plt.tight_layout()"
   ]
  },
  {
   "cell_type": "code",
   "execution_count": 12,
   "metadata": {},
   "outputs": [
    {
     "data": {
      "image/png": "[encoded data removed]",
      "text/plain": [
       "<Figure size 1080x360 with 15 Axes>"
      ]
     },
     "metadata": {
      "needs_background": "light"
     },
     "output_type": "display_data"
    }
   ],
   "source": [
    "fig, axes = plt.subplots(3,5,figsize=[15,5])\n",
    "num_cols=leaf_x.select_dtypes(include=np.number).columns\n",
    "for i, col in enumerate(num_cols):\n",
    "    sns.distplot(leaf_x[col],ax=axes[i//5,i%5])\n",
    "plt.tight_layout()"
   ]
  },
  {
   "cell_type": "markdown",
   "metadata": {},
   "source": [
    "According to the graphs above, we can divide variables into 3 groups:\n",
    "        \n",
    "        - its distribution is similar to Normal Distribution (Elongation, Entropy)\n",
    "        - its distribution is not similar to Normal Distribution and there are some outliers (Aspect Ratio, Solidity,\n",
    "          Stochastic Convexity, Maximal Indentation Depth, Lobedness, Smoothness, Third moment, Uniformity)\n",
    "        - its distribution is not similar to Normal Distribution and there is no outliers (Number of specimens, \n",
    "          Eccentricity, Isoperimetric Factor, Average Intensity, Average Contrast).\n",
    "          "
   ]
  },
  {
   "cell_type": "markdown",
   "metadata": {},
   "source": [
    "## Classification models"
   ]
  },
  {
   "cell_type": "markdown",
   "metadata": {},
   "source": [
    "#### K-Nearest Neighbors"
   ]
  },
  {
   "cell_type": "markdown",
   "metadata": {},
   "source": [
    "In KNN method I start with picking a good K Value for further predictions. The parameter K describes how many clusters we should create. Our aim is to find the optimal K Value."
   ]
  },
  {
   "cell_type": "code",
   "execution_count": 13,
   "metadata": {},
   "outputs": [
    {
     "data": {
      "text/plain": [
       "Text(0, 0.5, 'Testing Accuracy')"
      ]
     },
     "execution_count": 13,
     "metadata": {},
     "output_type": "execute_result"
    },
    {
     "data": {
      "image/png": "[encoded data removed]",
      "text/plain": [
       "<Figure size 720x288 with 1 Axes>"
      ]
     },
     "metadata": {
      "needs_background": "light"
     },
     "output_type": "display_data"
    }
   ],
   "source": [
    "k_range = range(1,16)\n",
    "scores = []\n",
    "for k in k_range:\n",
    "    knn = KNeighborsClassifier(n_neighbors=k)\n",
    "    knn.fit(x_train, y_train)\n",
    "    scores.append(knn.score(x_test, y_test))\n",
    "    \n",
    "plt.figure(figsize=(10,4))\n",
    "plt.plot(range(1,16),scores,color='blue', linestyle='dashed', marker='o',\n",
    "         markerfacecolor='red', markersize=10)\n",
    "plt.title('Testing Accuracy vs. K Value')\n",
    "plt.xlabel('K')\n",
    "plt.ylabel('Testing Accuracy')"
   ]
  },
  {
   "cell_type": "markdown",
   "metadata": {},
   "source": [
    "In the analysis we use 11 clusters - in case we want to create more than 1 cluster the testing accurancy is optimized."
   ]
  },
  {
   "cell_type": "code",
   "execution_count": 14,
   "metadata": {},
   "outputs": [
    {
     "name": "stdout",
     "output_type": "stream",
     "text": [
      "Accuracy of KNN classifier on training set: 0.61569\n",
      "Accuracy of KNN classifier on test set: 0.50588\n"
     ]
    }
   ],
   "source": [
    "knn = KNeighborsClassifier(n_neighbors=11)\n",
    "knn.fit(x_train, y_train)\n",
    "knn_train = knn.score(x_train, y_train)\n",
    "knn_test = knn.score(x_test, y_test)\n",
    "\n",
    "print('Accuracy of KNN classifier on training set:', round(knn_train,5))\n",
    "print('Accuracy of KNN classifier on test set:', round(knn_test,5))"
   ]
  },
  {
   "cell_type": "markdown",
   "metadata": {},
   "source": [
    "#### Linear Discriminant Analysis"
   ]
  },
  {
   "cell_type": "code",
   "execution_count": 15,
   "metadata": {
    "scrolled": true
   },
   "outputs": [
    {
     "name": "stdout",
     "output_type": "stream",
     "text": [
      "Accuracy of LDA classifier on training set: 0.87843\n",
      "Accuracy of LDA classifier on test set: 0.77647\n"
     ]
    }
   ],
   "source": [
    "lda = LinearDiscriminantAnalysis()\n",
    "lda.fit(x_train, y_train)\n",
    "lda_train = lda.score(x_train, y_train)\n",
    "lda_test = lda.score(x_test, y_test)\n",
    "\n",
    "print('Accuracy of LDA classifier on training set:', round(lda_train,5))\n",
    "print('Accuracy of LDA classifier on test set:', round(lda_test,5))"
   ]
  },
  {
   "cell_type": "markdown",
   "metadata": {},
   "source": [
    "#### Support Vector Machine"
   ]
  },
  {
   "cell_type": "code",
   "execution_count": 16,
   "metadata": {},
   "outputs": [
    {
     "name": "stdout",
     "output_type": "stream",
     "text": [
      "Accuracy of SVM classifier on training set: 0.73725\n",
      "Accuracy of SVM classifier on test set: 0.50588\n"
     ]
    }
   ],
   "source": [
    "svm = SVC()\n",
    "svm.fit(x_train, y_train)\n",
    "svm_train = svm.score(x_train, y_train)\n",
    "svm_test = svm.score(x_test, y_test)\n",
    "\n",
    "print('Accuracy of SVM classifier on training set:', round(svm_train,5))\n",
    "print('Accuracy of SVM classifier on test set:', round(svm_test,5))"
   ]
  },
  {
   "cell_type": "markdown",
   "metadata": {},
   "source": [
    "#### Naive Bayes"
   ]
  },
  {
   "cell_type": "markdown",
   "metadata": {},
   "source": [
    "In Naive Bayes modelling I want to analyze 2 models - Gaussian Naive Bayes and Bernoulli Naive Bayes."
   ]
  },
  {
   "cell_type": "code",
   "execution_count": 17,
   "metadata": {},
   "outputs": [
    {
     "name": "stdout",
     "output_type": "stream",
     "text": [
      "Accuracy of Gaussian NB classifier on training set: 0.84706\n",
      "Accuracy of Gaussian NB classifier on test set: 0.64706 \n",
      "\n",
      "Accuracy of Bernoulli NB classifier on training set: 0.55294\n",
      "Accuracy of Bernoulli NB classifier on test set: 0.36471\n"
     ]
    }
   ],
   "source": [
    "gnb = GaussianNB()\n",
    "gnb.fit(x_train, y_train)\n",
    "gnb_train = gnb.score(x_train, y_train)\n",
    "gnb_test = gnb.score(x_test, y_test)\n",
    "\n",
    "print('Accuracy of Gaussian NB classifier on training set:', round(gnb_train,5))\n",
    "print('Accuracy of Gaussian NB classifier on test set:', round(gnb_test,5), '\\n')\n",
    "\n",
    "bnb = BernoulliNB()\n",
    "bnb.fit(x_train, y_train)\n",
    "bnb_train = bnb.score(x_train, y_train)\n",
    "bnb_test = bnb.score(x_test, y_test)\n",
    "\n",
    "print('Accuracy of Bernoulli NB classifier on training set:', round(bnb_train,5))\n",
    "print('Accuracy of Bernoulli NB classifier on test set:', round(bnb_test,5))"
   ]
  },
  {
   "cell_type": "markdown",
   "metadata": {},
   "source": [
    "#### Decision Tree Classification"
   ]
  },
  {
   "cell_type": "code",
   "execution_count": 18,
   "metadata": {},
   "outputs": [
    {
     "name": "stdout",
     "output_type": "stream",
     "text": [
      "Accuracy of Decision Tree classifier on training set: 1.0\n",
      "Accuracy of Decision Tree classifier on test set: 0.57647\n"
     ]
    }
   ],
   "source": [
    "dtc = DecisionTreeClassifier().fit(x_train, y_train)\n",
    "dtc_train = dtc.score(x_train, y_train)\n",
    "dtc_test = dtc.score(x_test, y_test)\n",
    "print('Accuracy of Decision Tree classifier on training set:', round(dtc_train,5))\n",
    "print('Accuracy of Decision Tree classifier on test set:', round(dtc_test,5))"
   ]
  },
  {
   "cell_type": "markdown",
   "metadata": {},
   "source": [
    "#### Random Forests"
   ]
  },
  {
   "cell_type": "markdown",
   "metadata": {},
   "source": [
    "In RF method I start with picking a good number of estimators. It describes how many iterations is optimal. I assume maximal depth of one iteration in tree is equal to 4."
   ]
  },
  {
   "cell_type": "code",
   "execution_count": 19,
   "metadata": {
    "scrolled": false
   },
   "outputs": [
    {
     "data": {
      "text/plain": [
       "Text(0, 0.5, 'Testing Accuracy')"
      ]
     },
     "execution_count": 19,
     "metadata": {},
     "output_type": "execute_result"
    },
    {
     "data": {
      "image/png": "[encoded data removed]",
      "text/plain": [
       "<Figure size 720x288 with 1 Axes>"
      ]
     },
     "metadata": {
      "needs_background": "light"
     },
     "output_type": "display_data"
    }
   ],
   "source": [
    "est_range = range(1,16)\n",
    "scores = []\n",
    "for k in est_range:\n",
    "    RF = RandomForestClassifier(n_estimators=k, max_depth=4, random_state=0)\n",
    "    RF.fit(x_train, y_train)\n",
    "    scores.append(RF.score(x_test, y_test))\n",
    "\n",
    "plt.figure(figsize=(10,4))\n",
    "plt.plot(est_range,scores,color='blue', linestyle='dashed', marker='o',\n",
    "         markerfacecolor='red', markersize=10)\n",
    "plt.title('Testing Accuracy vs. Random Forests Estimators')\n",
    "plt.xlabel('Estimators')\n",
    "plt.ylabel('Testing Accuracy')"
   ]
  },
  {
   "cell_type": "markdown",
   "metadata": {},
   "source": [
    "I assume 7 estimators is the most optimal for analysis."
   ]
  },
  {
   "cell_type": "code",
   "execution_count": 20,
   "metadata": {},
   "outputs": [
    {
     "name": "stdout",
     "output_type": "stream",
     "text": [
      "Accuracy of Random Forests classifier on training set: 0.65098\n",
      "Accuracy of Random Forests classifier on test set: 0.50588\n"
     ]
    }
   ],
   "source": [
    "RF = RandomForestClassifier(n_estimators=7, max_depth=4, random_state=0)\n",
    "RF.fit(x_train, y_train)\n",
    "RF_train = RF.score(x_train, y_train)\n",
    "RF_test = RF.score(x_test, y_test)\n",
    "print('Accuracy of Random Forests classifier on training set:', round(RF_train,5))\n",
    "print('Accuracy of Random Forests classifier on test set:', round(RF_test,5))"
   ]
  },
  {
   "cell_type": "markdown",
   "metadata": {},
   "source": [
    "#### Gradient Boosting Classifier"
   ]
  },
  {
   "cell_type": "markdown",
   "metadata": {},
   "source": [
    "Similar to the method above, I start with picking an optimal number of estimators."
   ]
  },
  {
   "cell_type": "code",
   "execution_count": 21,
   "metadata": {},
   "outputs": [
    {
     "data": {
      "text/plain": [
       "Text(0, 0.5, 'Testing Accuracy')"
      ]
     },
     "execution_count": 21,
     "metadata": {},
     "output_type": "execute_result"
    },
    {
     "data": {
      "image/png": "[encoded data removed]",
      "text/plain": [
       "<Figure size 720x288 with 1 Axes>"
      ]
     },
     "metadata": {
      "needs_background": "light"
     },
     "output_type": "display_data"
    }
   ],
   "source": [
    "gbc_range = range(1, 51)\n",
    "scores = []\n",
    "for k in gbc_range:\n",
    "    gbc = GradientBoostingClassifier(n_estimators=k)\n",
    "    gbc.fit(x_train, y_train)\n",
    "    scores.append(gbc.score(x_test, y_test))\n",
    "\n",
    "plt.figure(figsize=(10,4))\n",
    "plt.plot(gbc_range,scores,color='blue', linestyle='dashed', marker='o',\n",
    "         markerfacecolor='red', markersize=10)\n",
    "plt.title('Testing Accuracy vs. Gradient Boosting Estimators')\n",
    "plt.xlabel('Estimators')\n",
    "plt.ylabel('Testing Accuracy')"
   ]
  },
  {
   "cell_type": "markdown",
   "metadata": {},
   "source": [
    "I assume 30 estimators as optimal number. The accurancy value is fluctuacting after each run of model. However, accurancy for 30 and more estimators is more than or equal to 0.6."
   ]
  },
  {
   "cell_type": "code",
   "execution_count": 22,
   "metadata": {},
   "outputs": [
    {
     "name": "stdout",
     "output_type": "stream",
     "text": [
      "Accuracy of GBC classifier on training set: 1.0\n",
      "Accuracy of GBC classifier on test set: 0.61176\n"
     ]
    }
   ],
   "source": [
    "gbc = GradientBoostingClassifier(n_estimators=30)\n",
    "gbc.fit(x_train, y_train)\n",
    "gbc_train = gbc.score(x_train, y_train)\n",
    "gbc_test = gbc.score(x_test, y_test)\n",
    "\n",
    "print('Accuracy of GBC classifier on training set:', round(gbc_train,5))\n",
    "print('Accuracy of GBC classifier on test set:', round(gbc_test,5))"
   ]
  },
  {
   "cell_type": "markdown",
   "metadata": {},
   "source": [
    "## Summary"
   ]
  },
  {
   "cell_type": "markdown",
   "metadata": {},
   "source": [
    "#### Which model is the most accurate?"
   ]
  },
  {
   "cell_type": "code",
   "execution_count": 23,
   "metadata": {
    "scrolled": true
   },
   "outputs": [
    {
     "name": "stdout",
     "output_type": "stream",
     "text": [
      "                              Test Accurancy  Training Accurancy\n",
      "Model                                                           \n",
      "Linear Discriminant Analysis        0.776471            0.878431\n",
      "Gaussian Naive Bayes                0.647059            0.847059\n",
      "Gradient Boosting Classifier        0.611765            1.000000\n",
      "Decision Tree Classification        0.576471            1.000000\n",
      "K-Nearest Neighbors                 0.505882            0.615686\n",
      "Support Vector Machine              0.505882            0.737255\n",
      "Random Forests                      0.505882            0.650980\n",
      "Bernoulli Naive Bayes               0.364706            0.552941 \n",
      "\n",
      "Linear Discriminant Analysis algorithm with accurancy on test set 77.647 % is the most accurate model I tried.\n"
     ]
    }
   ],
   "source": [
    "classifiers = pd.DataFrame({\n",
    "                'Model': ['K-Nearest Neighbors', 'Linear Discriminant Analysis', 'Support Vector Machine', \n",
    "                          'Gaussian Naive Bayes', 'Bernoulli Naive Bayes', 'Decision Tree Classification', \n",
    "                          'Random Forests', 'Gradient Boosting Classifier'],\n",
    "                'Test Accurancy': [knn_test, lda_test, svm_test, gnb_test, bnb_test, dtc_test, RF_test, gbc_test],\n",
    "                'Training Accurancy': [knn_train, lda_train, svm_train, gnb_train, bnb_train, dtc_train, RF_train, gbc_train]})\n",
    "\n",
    "classifiers = classifiers.set_index('Model')\n",
    "classifiers = classifiers.sort_values(by = 'Test Accurancy', ascending = False)\n",
    "\n",
    "print(classifiers,'\\n')\n",
    "print(classifiers.index[0], 'algorithm with accurancy on test set', \n",
    "      round(classifiers['Test Accurancy'][0]*100,3), '% is the most accurate model I tried.')"
   ]
  },
  {
   "cell_type": "markdown",
   "metadata": {},
   "source": [
    "#### Confusion matrix"
   ]
  },
  {
   "cell_type": "code",
   "execution_count": 24,
   "metadata": {},
   "outputs": [
    {
     "name": "stdout",
     "output_type": "stream",
     "text": [
      "[[2 0 0 0 0 0 0 0 0 0 0 0 1 0 0 0 0 0 0 0 0 0 0 0 0 2 0 0 0 0]\n",
      " [0 4 0 0 0 0 0 0 0 0 0 0 0 0 0 0 0 0 0 0 0 0 0 0 0 0 0 0 0 0]\n",
      " [0 0 2 0 0 0 0 0 0 0 0 0 0 0 0 0 0 0 0 0 0 0 0 0 0 0 0 0 0 0]\n",
      " [0 0 0 0 0 0 0 0 0 0 0 0 0 0 0 0 0 0 0 0 0 0 0 0 0 0 0 0 0 0]\n",
      " [0 0 0 0 1 0 0 0 0 0 0 0 0 0 0 0 0 0 0 0 0 0 0 0 0 0 0 0 0 0]\n",
      " [0 0 0 0 0 1 0 0 0 0 0 0 0 0 0 0 1 0 0 0 0 0 0 0 0 0 0 0 0 0]\n",
      " [0 0 0 1 0 0 0 0 0 0 0 0 0 0 0 0 0 0 0 0 0 0 0 0 0 0 0 0 0 0]\n",
      " [0 0 0 0 0 0 0 2 0 0 0 0 0 0 0 0 0 0 0 0 0 0 0 0 0 0 0 0 0 0]\n",
      " [0 0 0 0 0 0 0 0 6 0 0 0 0 0 0 0 0 0 0 0 0 0 0 0 0 0 0 0 0 0]\n",
      " [0 0 0 0 0 0 0 0 0 4 0 0 0 0 0 0 0 0 0 0 0 0 0 0 0 0 0 0 0 0]\n",
      " [0 0 0 0 0 0 0 0 0 0 6 0 0 0 0 0 0 0 0 0 0 0 0 0 0 0 0 0 0 0]\n",
      " [0 0 0 0 0 0 0 0 0 0 0 4 0 0 0 0 0 0 0 0 0 0 0 0 0 0 0 0 0 0]\n",
      " [0 0 0 0 0 0 0 0 0 0 0 0 1 0 0 0 0 0 0 0 0 0 0 0 0 0 0 0 0 0]\n",
      " [0 0 0 0 0 0 0 0 0 0 0 0 0 2 0 0 0 0 0 0 0 0 0 0 0 0 0 0 0 0]\n",
      " [0 0 0 0 0 0 0 0 0 0 0 0 0 0 3 0 0 0 0 0 0 0 0 0 0 0 0 0 0 0]\n",
      " [0 0 0 0 0 0 0 0 0 0 0 0 0 0 0 2 0 0 0 0 0 0 0 0 0 0 0 0 0 0]\n",
      " [0 0 0 0 0 0 0 0 0 0 0 0 0 0 0 0 1 0 0 0 0 0 0 0 0 0 0 0 0 0]\n",
      " [0 0 0 0 0 0 0 0 0 0 0 0 0 0 0 0 0 2 0 0 0 0 1 0 0 0 0 0 0 0]\n",
      " [0 0 0 0 0 0 0 0 0 0 0 0 0 0 0 0 0 0 1 0 0 0 0 0 0 0 1 0 0 0]\n",
      " [0 0 0 0 0 0 0 0 0 0 0 0 0 0 0 0 0 1 0 0 0 0 0 0 0 0 0 0 0 0]\n",
      " [0 0 0 1 0 0 0 0 0 0 0 0 0 0 0 0 0 0 0 1 4 0 0 0 0 0 0 0 0 0]\n",
      " [0 0 0 0 0 0 0 0 0 0 0 0 0 2 0 0 0 0 0 0 0 1 0 0 0 0 0 0 1 0]\n",
      " [0 0 0 0 0 0 0 0 0 0 0 0 0 0 0 0 0 0 0 0 0 0 1 0 0 0 0 0 0 0]\n",
      " [0 0 0 0 0 0 0 0 0 0 0 0 0 0 0 0 0 0 0 0 0 0 0 2 0 0 0 0 0 0]\n",
      " [0 0 0 0 0 0 0 0 0 0 0 0 0 0 0 0 0 0 0 0 0 0 0 0 1 0 0 0 0 0]\n",
      " [0 0 0 0 0 0 0 0 0 0 0 0 0 1 0 0 0 0 0 0 0 0 0 0 0 3 0 0 1 0]\n",
      " [0 0 0 0 0 0 0 0 0 0 0 0 1 0 0 0 0 0 0 0 0 0 0 0 0 1 2 0 0 0]\n",
      " [0 0 0 0 0 0 0 0 0 0 0 0 0 0 0 0 0 0 0 0 0 0 0 0 0 0 0 3 0 0]\n",
      " [0 0 0 0 0 0 0 0 0 0 0 0 0 1 0 0 0 0 0 0 0 1 0 0 0 0 0 0 1 0]\n",
      " [0 0 0 0 0 0 0 0 0 0 0 0 0 0 0 0 0 0 0 0 0 0 0 0 0 0 0 0 0 4]]\n"
     ]
    }
   ],
   "source": [
    "pred = lda.predict(x_test)\n",
    "\n",
    "print(confusion_matrix(y_test, pred))"
   ]
  },
  {
   "cell_type": "markdown",
   "metadata": {},
   "source": [
    "#### Classification report"
   ]
  },
  {
   "cell_type": "code",
   "execution_count": 26,
   "metadata": {},
   "outputs": [
    {
     "name": "stdout",
     "output_type": "stream",
     "text": [
      "              precision    recall  f1-score   support\n",
      "\n",
      "           1       1.00      0.40      0.57         5\n",
      "           2       1.00      1.00      1.00         4\n",
      "           3       1.00      1.00      1.00         2\n",
      "           4       0.00      0.00      0.00         0\n",
      "           5       1.00      1.00      1.00         1\n",
      "           6       1.00      0.50      0.67         2\n",
      "           7       0.00      0.00      0.00         1\n",
      "           8       1.00      1.00      1.00         2\n",
      "           9       1.00      1.00      1.00         6\n",
      "          10       1.00      1.00      1.00         4\n",
      "          11       1.00      1.00      1.00         6\n",
      "          12       1.00      1.00      1.00         4\n",
      "          13       0.33      1.00      0.50         1\n",
      "          14       0.33      1.00      0.50         2\n",
      "          15       1.00      1.00      1.00         3\n",
      "          22       1.00      1.00      1.00         2\n",
      "          23       0.50      1.00      0.67         1\n",
      "          24       0.67      0.67      0.67         3\n",
      "          25       1.00      0.50      0.67         2\n",
      "          26       0.00      0.00      0.00         1\n",
      "          27       1.00      0.67      0.80         6\n",
      "          28       0.50      0.25      0.33         4\n",
      "          29       0.50      1.00      0.67         1\n",
      "          30       1.00      1.00      1.00         2\n",
      "          31       1.00      1.00      1.00         1\n",
      "          32       0.50      0.60      0.55         5\n",
      "          33       0.67      0.50      0.57         4\n",
      "          34       1.00      1.00      1.00         3\n",
      "          35       0.33      0.33      0.33         3\n",
      "          36       1.00      1.00      1.00         4\n",
      "\n",
      "    accuracy                           0.78        85\n",
      "   macro avg       0.74      0.75      0.72        85\n",
      "weighted avg       0.84      0.78      0.78        85\n",
      "\n"
     ]
    }
   ],
   "source": [
    "print(classification_report(y_test, pred))"
   ]
  },
  {
   "cell_type": "markdown",
   "metadata": {},
   "source": [
    "#### Conclusion"
   ]
  },
  {
   "cell_type": "markdown",
   "metadata": {},
   "source": [
    "I started the analysis from the introduction to Leaf Dataset - variables description and features explanation. Later I explained what classification in machine learning is and which methods of classification modelling are used. In Cleaning and preprocessing data I checked if there are some NA values, later I splited dataset into Train and Test set and I made feature scaling. In EDA I analyzed correlations between parameters, its distributions and frequency. In Classification models point I prepared models for particular methods used in model accurancy research. It turns out Linear Discriminant Analysis is the most accurate model, the accurance is higher than 75%. Gaussian Naive Bayes, Decision Tree Classification and Gradient Boosting Classifier models also predict properly (accurancy level is more than 60%). It was presented in point Summary together with Confusion matrix and Classification report for LDA model as the most accurate one."
   ]
  }
 ],
 "metadata": {
  "kernelspec": {
   "display_name": "Python 3",
   "language": "python",
   "name": "python3"
  },
  "language_info": {
   "codemirror_mode": {
    "name": "ipython",
    "version": 3
   },
   "file_extension": ".py",
   "mimetype": "text/x-python",
   "name": "python",
   "nbconvert_exporter": "python",
   "pygments_lexer": "ipython3",
   "version": "3.7.6"
  }
 },
 "nbformat": 4,
 "nbformat_minor": 4
}
